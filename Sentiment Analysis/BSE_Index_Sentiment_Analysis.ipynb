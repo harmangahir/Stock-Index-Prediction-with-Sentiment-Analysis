{
 "cells": [
  {
   "cell_type": "code",
   "execution_count": 1,
   "metadata": {},
   "outputs": [],
   "source": [
    "import requests\n",
    "import bs4\n",
    "from bs4 import BeautifulSoup\n",
    "import nltk\n",
    "# Load, explore, process and plot data\n",
    "import re\n",
    "import numpy as np\n",
    "import pandas as pd\n",
    "import matplotlib.pyplot as plt\n",
    "import seaborn as sns\n",
    "import pickle as pk\n",
    "import csv\n",
    "\n",
    "\n",
    "#Text Preprocessing\n",
    "import nltk\n",
    "from nltk.corpus import stopwords\n",
    "from nltk.stem import PorterStemmer\n",
    "from nltk.stem import WordNetLemmatizer\n",
    "from nltk.tokenize import sent_tokenize, word_tokenize"
   ]
  },
  {
   "cell_type": "code",
   "execution_count": 2,
   "metadata": {},
   "outputs": [
    {
     "name": "stderr",
     "output_type": "stream",
     "text": [
      "[nltk_data] Downloading package stopwords to\n",
      "[nltk_data]     C:\\Users\\HP\\AppData\\Roaming\\nltk_data...\n",
      "[nltk_data]   Package stopwords is already up-to-date!\n",
      "[nltk_data] Downloading package wordnet to\n",
      "[nltk_data]     C:\\Users\\HP\\AppData\\Roaming\\nltk_data...\n",
      "[nltk_data]   Package wordnet is already up-to-date!\n",
      "[nltk_data] Downloading package vader_lexicon to\n",
      "[nltk_data]     C:\\Users\\HP\\AppData\\Roaming\\nltk_data...\n",
      "[nltk_data]   Package vader_lexicon is already up-to-date!\n",
      "[nltk_data] Downloading package omw-1.4 to\n",
      "[nltk_data]     C:\\Users\\HP\\AppData\\Roaming\\nltk_data...\n",
      "[nltk_data]   Package omw-1.4 is already up-to-date!\n"
     ]
    },
    {
     "data": {
      "text/plain": [
       "True"
      ]
     },
     "execution_count": 2,
     "metadata": {},
     "output_type": "execute_result"
    }
   ],
   "source": [
    "nltk.download('stopwords')\n",
    "nltk.download('wordnet')\n",
    "nltk.download('vader_lexicon')\n",
    "nltk.download('omw-1.4')"
   ]
  },
  {
   "cell_type": "code",
   "execution_count": 3,
   "metadata": {},
   "outputs": [],
   "source": [
    "url = 'https://economictimes.indiatimes.com/markets/stocks/news'"
   ]
  },
  {
   "cell_type": "code",
   "execution_count": 4,
   "metadata": {},
   "outputs": [],
   "source": [
    "headers={\n",
    "    'User-Agent':'Mozilla/5.0 (Windows NT 10.0; Win64; x64) AppleWebKit/537.36 (KHTML, like Gecko) Chrome/120.0.0.0 Safari/537.36 Edg/120.0.0.0'\n",
    "}"
   ]
  },
  {
   "cell_type": "code",
   "execution_count": 5,
   "metadata": {},
   "outputs": [],
   "source": [
    "response = requests.get(url)"
   ]
  },
  {
   "cell_type": "code",
   "execution_count": 6,
   "metadata": {},
   "outputs": [],
   "source": [
    "soup = BeautifulSoup(response.content, 'html.parser')"
   ]
  },
  {
   "cell_type": "code",
   "execution_count": 7,
   "metadata": {},
   "outputs": [],
   "source": [
    "headline = soup.find_all('div',{'class':'eachStory'})[0].find_all('a')[-1].text"
   ]
  },
  {
   "cell_type": "code",
   "execution_count": 8,
   "metadata": {},
   "outputs": [
    {
     "name": "stdout",
     "output_type": "stream",
     "text": [
      "These largecaps have ‘strong buy’ & ‘buy’ recos and upside potential of more than 20%\n"
     ]
    }
   ],
   "source": [
    "print(headline)"
   ]
  },
  {
   "cell_type": "code",
   "execution_count": 9,
   "metadata": {},
   "outputs": [
    {
     "name": "stdout",
     "output_type": "stream",
     "text": [
      "1: These largecaps have ‘strong buy’ & ‘buy’ recos and upside potential of more than 20%\n",
      "While the nifty is moving in and out green, there are clear signs of profit booking taking place in the broader market with market breadth being negative. While the initial part of any volatility is led by large caps, as this time it is being led by banks, but there is a higher probability that the large caps are able to stabilize much before any part of the market. So, if one is thinking of fresh exposure to the market it would be better to stick with large caps.  ET screener powered by Refinitiv’s Stock Report Plus lists down quality stocks with high upside potential over the next 12 months, having an average recommendation rating of “buy” or \"strong buy\". The screener applies different algorithms for all BSE and NSE stocks. \n",
      "\n",
      "2: Tech Mahindra, Lupin among 5 stocks with long buildup\n",
      "A long buildup is when there is a rise in open interest and volumes along with an increase in the price of the underlying stock in the Futures and Options segment. The long buildup is the occurrence of a long (buying) trend in the share market. In Tuesday's trading session, five stocks witnessed a build of fresh long positions. Here's the list:\n",
      "\n",
      "3: Groww app hit by technical glitch, demat account holders demand compensation\n",
      "Groww, the No.1 stock broker in India, faced a technical glitch on its trading app but resolved it later. Users were unable to log in and demanded compensation. Zerodha, the previous market leader, has also faced technical glitches in the past. Groww has 76 million active clients, surpassing Zerodha's client base. The total number of demat accounts increased to 139 million last month.\n",
      "\n",
      "4: Modi effect: IREDA, Tata Power & other renewable energy stocks jump up to 18%. Here's why\n",
      "After the Ram temple ceremony in Ayodhya, Prime Minister Narendra Modi announced a scheme to install rooftop solar systems in 1 crore homes. \n",
      "\n",
      "5: Interim Budget 2024: Top 4 stocks from budget themed portfolio scan that could give 16-20% return\n",
      "The upcoming interim budget and dim markets may impact the stocks related to defence, automobile, packaging, and insurance. Nifty's performance has breached past three week's low, indicating a potential stop on its bull run. The futures and options data in the Nifty derivative segment show some support at the current levels. \n",
      "\n",
      "6: Use guaranteed savings plans to lock into high interest rates\n",
      " The Reserve Bank of India’s tight monetary stance over the past two years has seen the benchmark repo rate inch up from 4% in 2021 to 6.5% in 2023. The last time such rates prevailed was over five years ago in 2018.\n",
      "\n",
      "7: India crowned stock market superpower but 2 Wall Street darlings bigger than entire Dalal Street\n",
      "India surpasses Hong Kong to become the fourth-largest global hub of equities, trailing only the US, China, and Japan. However, the gap between Dalal Street and Wall Street is significant. The US market, with a total market capitalization of $51 trillion, is so massive that just two stocks, Apple and Microsoft, exceed the combined value of all 5,000-plus stocks listed in India. Meanwhile, the world's most valuable companies are Apple and Microsoft, followed by Saudi Aramco. In India, Reliance Industries and HDFC Bank are the largest stocks. HDFC Bank is the top candidate to reach a $1 trillion market capitalization, followed by RIL and Bajaj Finance. The Indian market is expected to continue growing, driven by foreign institutional investors and increasing retail participation.\n",
      "\n",
      "8: Technical Stock Pick: Bank of India rallies nearly 40% in 3 months to hit fresh 52-week high; Should you buy or book profits?\n",
      "Bank of India Ltd, part of the PSU banking space, rallied nearly 40% to hit a fresh 52-week high last week. Short-term traders can look to buy the stock for a target of Rs 199 in the next 3 months. The stock has been making higher highs and higher lows for the past 4 weeks. It has broken out of a rounding bottom pattern on the monthly charts and breached the downward-sloping trendline resistance on the daily charts. The stock is now trading well above most of the crucial short- and long-term moving averages such as 5,10,30,50,100 and 200-DMA on the daily charts.\n",
      "\n",
      "9: Persistent Systems shares soar 10%, hit 52-week high on strong Q3 show\n",
      "Persistent Systems share price jumped 10% to hit a new 52-week high at Rs 8,716 in Tuesday's trade on BSE after the firm reported a 20.2% growth in net profit to Rs 286.1 crore year-on-year (YoY) for the December quarter, driven by a strong order book in Q3 FY24.\n",
      "\n",
      "10: IDFC First Bank shares slide 5% post Q3 earnings. Should you buy, sell or hold?\n",
      "IDFC First Bank Share Price: Following mixed December quarter earnings and not so optimistic brokerage view, shares of IDFC First Bank fell over 5% to the day's low of Rs 82.80 on the NSE on Tuesday. While BofA recommended an underperform rating on the stock, domestic brokerages Motilal Oswal and Nuvama held 'Neutral' and 'Hold' views respectively.\n",
      "\n"
     ]
    }
   ],
   "source": [
    "i = 0\n",
    "while i < 10:\n",
    "    response = requests.get(url)\n",
    "    soup = BeautifulSoup(response.content, 'html.parser')\n",
    "    headline = soup.find_all('div',{'class':'eachStory'})[i].find_all('a')[-1].text\n",
    "    print(str(i+1)+\": \"+headline)\n",
    "    print(soup.find_all('div',{'class':'eachStory'})[i].find_all('p')[0].text)\n",
    "    print()\n",
    "    i+=1"
   ]
  },
  {
   "cell_type": "code",
   "execution_count": 10,
   "metadata": {},
   "outputs": [],
   "source": [
    "def getNews():\n",
    "    i = 0\n",
    "    while i < 10:\n",
    "        response = requests.get(url)\n",
    "        soup = BeautifulSoup(response.content, 'html.parser')\n",
    "        headline = soup.find_all('div',{'class':'eachStory'})[i].find_all('a')[-1].text\n",
    "        print(str(i+1)+\": \"+headline)\n",
    "        print(soup.find_all('div',{'class':'eachStory'})[i].find_all('p')[0].text)\n",
    "        print()\n",
    "        i+=1"
   ]
  },
  {
   "cell_type": "code",
   "execution_count": 11,
   "metadata": {},
   "outputs": [
    {
     "name": "stdout",
     "output_type": "stream",
     "text": [
      "1: These largecaps have ‘strong buy’ & ‘buy’ recos and upside potential of more than 20%\n",
      "While the nifty is moving in and out green, there are clear signs of profit booking taking place in the broader market with market breadth being negative. While the initial part of any volatility is led by large caps, as this time it is being led by banks, but there is a higher probability that the large caps are able to stabilize much before any part of the market. So, if one is thinking of fresh exposure to the market it would be better to stick with large caps.  ET screener powered by Refinitiv’s Stock Report Plus lists down quality stocks with high upside potential over the next 12 months, having an average recommendation rating of “buy” or \"strong buy\". The screener applies different algorithms for all BSE and NSE stocks. \n",
      "\n",
      "2: Tech Mahindra, Lupin among 5 stocks with long buildup\n",
      "A long buildup is when there is a rise in open interest and volumes along with an increase in the price of the underlying stock in the Futures and Options segment. The long buildup is the occurrence of a long (buying) trend in the share market. In Tuesday's trading session, five stocks witnessed a build of fresh long positions. Here's the list:\n",
      "\n",
      "3: Groww app hit by technical glitch, demat account holders demand compensation\n",
      "Groww, the No.1 stock broker in India, faced a technical glitch on its trading app but resolved it later. Users were unable to log in and demanded compensation. Zerodha, the previous market leader, has also faced technical glitches in the past. Groww has 76 million active clients, surpassing Zerodha's client base. The total number of demat accounts increased to 139 million last month.\n",
      "\n",
      "4: Modi effect: IREDA, Tata Power & other renewable energy stocks jump up to 18%. Here's why\n",
      "After the Ram temple ceremony in Ayodhya, Prime Minister Narendra Modi announced a scheme to install rooftop solar systems in 1 crore homes. \n",
      "\n",
      "5: Interim Budget 2024: Top 4 stocks from budget themed portfolio scan that could give 16-20% return\n",
      "The upcoming interim budget and dim markets may impact the stocks related to defence, automobile, packaging, and insurance. Nifty's performance has breached past three week's low, indicating a potential stop on its bull run. The futures and options data in the Nifty derivative segment show some support at the current levels. \n",
      "\n",
      "6: Use guaranteed savings plans to lock into high interest rates\n",
      " The Reserve Bank of India’s tight monetary stance over the past two years has seen the benchmark repo rate inch up from 4% in 2021 to 6.5% in 2023. The last time such rates prevailed was over five years ago in 2018.\n",
      "\n",
      "7: India crowned stock market superpower but 2 Wall Street darlings bigger than entire Dalal Street\n",
      "India surpasses Hong Kong to become the fourth-largest global hub of equities, trailing only the US, China, and Japan. However, the gap between Dalal Street and Wall Street is significant. The US market, with a total market capitalization of $51 trillion, is so massive that just two stocks, Apple and Microsoft, exceed the combined value of all 5,000-plus stocks listed in India. Meanwhile, the world's most valuable companies are Apple and Microsoft, followed by Saudi Aramco. In India, Reliance Industries and HDFC Bank are the largest stocks. HDFC Bank is the top candidate to reach a $1 trillion market capitalization, followed by RIL and Bajaj Finance. The Indian market is expected to continue growing, driven by foreign institutional investors and increasing retail participation.\n",
      "\n",
      "8: Technical Stock Pick: Bank of India rallies nearly 40% in 3 months to hit fresh 52-week high; Should you buy or book profits?\n",
      "Bank of India Ltd, part of the PSU banking space, rallied nearly 40% to hit a fresh 52-week high last week. Short-term traders can look to buy the stock for a target of Rs 199 in the next 3 months. The stock has been making higher highs and higher lows for the past 4 weeks. It has broken out of a rounding bottom pattern on the monthly charts and breached the downward-sloping trendline resistance on the daily charts. The stock is now trading well above most of the crucial short- and long-term moving averages such as 5,10,30,50,100 and 200-DMA on the daily charts.\n",
      "\n",
      "9: Persistent Systems shares soar 10%, hit 52-week high on strong Q3 show\n",
      "Persistent Systems share price jumped 10% to hit a new 52-week high at Rs 8,716 in Tuesday's trade on BSE after the firm reported a 20.2% growth in net profit to Rs 286.1 crore year-on-year (YoY) for the December quarter, driven by a strong order book in Q3 FY24.\n",
      "\n",
      "10: IDFC First Bank shares slide 5% post Q3 earnings. Should you buy, sell or hold?\n",
      "IDFC First Bank Share Price: Following mixed December quarter earnings and not so optimistic brokerage view, shares of IDFC First Bank fell over 5% to the day's low of Rs 82.80 on the NSE on Tuesday. While BofA recommended an underperform rating on the stock, domestic brokerages Motilal Oswal and Nuvama held 'Neutral' and 'Hold' views respectively.\n",
      "\n"
     ]
    }
   ],
   "source": [
    "getNews()"
   ]
  },
  {
   "cell_type": "code",
   "execution_count": 12,
   "metadata": {},
   "outputs": [],
   "source": [
    "def getCompleteNews():\n",
    "    response = requests.get(url,{'headers':headers})\n",
    "    soup = bs4.BeautifulSoup(response.text, 'html.parser')\n",
    "    soup.find_all('div',{'class':'eachStory'})[0].find_all('a')[-1].text\n",
    "    i = 0\n",
    "    length = len(soup.find_all('div',{'class':'eachStory'}))\n",
    "    \n",
    "    while i < length:\n",
    "        headline = soup.find_all('div',{'class':'eachStory'})[i].find_all('a')[-1].text\n",
    "        print(str(i+1)+\": \"+headline)\n",
    "        print(soup.find_all('div',{'class':'eachStory'})[i].find_all('p')[0].text)\n",
    "        print()\n",
    "        i+=1"
   ]
  },
  {
   "cell_type": "code",
   "execution_count": 13,
   "metadata": {},
   "outputs": [
    {
     "name": "stdout",
     "output_type": "stream",
     "text": [
      "1: Oberoi Realty shares plunge 9% after Q3 profit drops 49%\n",
      "Its profit after tax stood at Rs 360.15 crore in Q3 FY24 as against Rs 702.57 crore it registered in the corresponding quarter of the previous fiscal.\n",
      "\n",
      "2: These largecaps have ‘strong buy’ & ‘buy’ recos and upside potential of more than 20%\n",
      "While the nifty is moving in and out green, there are clear signs of profit booking taking place in the broader market with market breadth being negative. While the initial part of any volatility is led by large caps, as this time it is being led by banks, but there is a higher probability that the large caps are able to stabilize much before any part of the market. So, if one is thinking of fresh exposure to the market it would be better to stick with large caps.  ET screener powered by Refinitiv’s Stock Report Plus lists down quality stocks with high upside potential over the next 12 months, having an average recommendation rating of “buy” or \"strong buy\". The screener applies different algorithms for all BSE and NSE stocks. \n",
      "\n",
      "3: Tech Mahindra, Lupin among 5 stocks with long buildup\n",
      "A long buildup is when there is a rise in open interest and volumes along with an increase in the price of the underlying stock in the Futures and Options segment. The long buildup is the occurrence of a long (buying) trend in the share market. In Tuesday's trading session, five stocks witnessed a build of fresh long positions. Here's the list:\n",
      "\n",
      "4: Groww app hit by technical glitch, demat account holders demand compensation\n",
      "Groww, the No.1 stock broker in India, faced a technical glitch on its trading app but resolved it later. Users were unable to log in and demanded compensation. Zerodha, the previous market leader, has also faced technical glitches in the past. Groww has 76 million active clients, surpassing Zerodha's client base. The total number of demat accounts increased to 139 million last month.\n",
      "\n",
      "5: Modi effect: IREDA, Tata Power & other renewable energy stocks jump up to 18%. Here's why\n",
      "After the Ram temple ceremony in Ayodhya, Prime Minister Narendra Modi announced a scheme to install rooftop solar systems in 1 crore homes. \n",
      "\n",
      "6: Interim Budget 2024: Top 4 stocks from budget themed portfolio scan that could give 16-20% return\n",
      "The upcoming interim budget and dim markets may impact the stocks related to defence, automobile, packaging, and insurance. Nifty's performance has breached past three week's low, indicating a potential stop on its bull run. The futures and options data in the Nifty derivative segment show some support at the current levels. \n",
      "\n",
      "7: Use guaranteed savings plans to lock into high interest rates\n",
      " The Reserve Bank of India’s tight monetary stance over the past two years has seen the benchmark repo rate inch up from 4% in 2021 to 6.5% in 2023. The last time such rates prevailed was over five years ago in 2018.\n",
      "\n",
      "8: India crowned stock market superpower but 2 Wall Street darlings bigger than entire Dalal Street\n",
      "India surpasses Hong Kong to become the fourth-largest global hub of equities, trailing only the US, China, and Japan. However, the gap between Dalal Street and Wall Street is significant. The US market, with a total market capitalization of $51 trillion, is so massive that just two stocks, Apple and Microsoft, exceed the combined value of all 5,000-plus stocks listed in India. Meanwhile, the world's most valuable companies are Apple and Microsoft, followed by Saudi Aramco. In India, Reliance Industries and HDFC Bank are the largest stocks. HDFC Bank is the top candidate to reach a $1 trillion market capitalization, followed by RIL and Bajaj Finance. The Indian market is expected to continue growing, driven by foreign institutional investors and increasing retail participation.\n",
      "\n",
      "9: Technical Stock Pick: Bank of India rallies nearly 40% in 3 months to hit fresh 52-week high; Should you buy or book profits?\n",
      "Bank of India Ltd, part of the PSU banking space, rallied nearly 40% to hit a fresh 52-week high last week. Short-term traders can look to buy the stock for a target of Rs 199 in the next 3 months. The stock has been making higher highs and higher lows for the past 4 weeks. It has broken out of a rounding bottom pattern on the monthly charts and breached the downward-sloping trendline resistance on the daily charts. The stock is now trading well above most of the crucial short- and long-term moving averages such as 5,10,30,50,100 and 200-DMA on the daily charts.\n",
      "\n",
      "10: Persistent Systems shares soar 10%, hit 52-week high on strong Q3 show\n",
      "Persistent Systems share price jumped 10% to hit a new 52-week high at Rs 8,716 in Tuesday's trade on BSE after the firm reported a 20.2% growth in net profit to Rs 286.1 crore year-on-year (YoY) for the December quarter, driven by a strong order book in Q3 FY24.\n",
      "\n",
      "11: IDFC First Bank shares slide 5% post Q3 earnings. Should you buy, sell or hold?\n",
      "IDFC First Bank Share Price: Following mixed December quarter earnings and not so optimistic brokerage view, shares of IDFC First Bank fell over 5% to the day's low of Rs 82.80 on the NSE on Tuesday. While BofA recommended an underperform rating on the stock, domestic brokerages Motilal Oswal and Nuvama held 'Neutral' and 'Hold' views respectively.\n",
      "\n",
      "12: Dolly Khanna adds multibaggers JKumar Infraprojects, Ujjivan Financial Services in December quarter\n",
      "Ace investor Dolly Khanna added multibagger JKumar Infraprojects, Ujjivan Financial Services, and Zuari Industries to her portfolio. She bought 1% stake in JKumar Infraprojects, 1.13% in Ujjivan Financial Services, and 1.23% in Zuari Industries. Khanna also trimmed her stake in Chennai Petroleum Corporation. Her portfolio, managed by her husband Rajiv Khanna, includes 18 stocks with a net worth of over Rs 513 crore.\n",
      "\n",
      "13: F&O Stock Strategy: How to trade MGL, Godrej Consumer, Apollo Hospital\n",
      "Nifty, which had formed a bearish engulfing pattern on the weekly as well as on daily charts, opened Tuesday’s trading session on a strong note with the index scaling above the 21,700 level.\n",
      "\n",
      "14: MFs and FIIs increase stakes in 5 out of 6 new-age tech stocks, Zomato among them\n",
      "New-age consumer technology stocks continue to attract investors on Dalal Street. Mutual funds and foreign institutional investors have increased stakes in five out of the six listed companies in the December quarter. Zomato is the top-performing stock, with a staggering 154% returns in FY24. Paytm, PB Fintech, and Nykaa have also seen an increase in investor interest. Ant Group has exited Zomato, while One97 Communications and Delhivery have trimmed down their losses. Analysts remain positive on Paytm and PB Fintech, but less bullish on Nykaa due to competition in its segments.\n",
      "\n",
      "15: Cipla shares jump 7%, hit 52-week high on strong Q3 earnings\n",
      "On Monday, Cipla reported a 31.8% year-on-year (YoY) jump in its October-December quarter consolidated net profit at Rs 1,056 crore. It was Rs 801 crore in the year-ago period.\n",
      "\n",
      "16: Hot Stocks: Brokerages view on Zee Entertainment, Paytm, Kotak Bank and ICICI Bank\n",
      "Brokerage firm Jefferies maintained a buy call on ICICI Bank post-Q3 results, a hold rating on Kotak Mahindra Bank, and a buy rating on Paytm. CLSA downgraded Zee Entertainment to sell from a buy earlier.\n",
      "\n"
     ]
    }
   ],
   "source": [
    "getCompleteNews()"
   ]
  },
  {
   "cell_type": "code",
   "execution_count": 14,
   "metadata": {},
   "outputs": [],
   "source": [
    "from bs4 import BeautifulSoup\n",
    "import requests \n",
    "from selenium import webdriver\n",
    "import time\n",
    "from datetime import timedelta\n",
    "import pandas as pd"
   ]
  },
  {
   "cell_type": "code",
   "execution_count": 15,
   "metadata": {},
   "outputs": [],
   "source": [
    "from selenium import webdriver\n",
    "from selenium.webdriver.chrome.service import Service as ChromeService\n",
    "# from webdriver_manager.chrome import EdgeChromiumDriverManager"
   ]
  },
  {
   "cell_type": "code",
   "execution_count": 16,
   "metadata": {},
   "outputs": [
    {
     "name": "stderr",
     "output_type": "stream",
     "text": [
      "C:\\Users\\HP\\AppData\\Local\\Temp\\ipykernel_18184\\2209125857.py:1: DeprecationWarning: executable_path has been deprecated, please pass in a Service object\n",
      "  driver = webdriver.Chrome(\"G:\\SetUps\\chromedriver-win64\\chromedriver-win64\\chromedriver.exe\")\n"
     ]
    }
   ],
   "source": [
    "driver = webdriver.Chrome(\"G:\\SetUps\\chromedriver-win64\\chromedriver-win64\\chromedriver.exe\")"
   ]
  },
  {
   "cell_type": "code",
   "execution_count": 17,
   "metadata": {},
   "outputs": [],
   "source": [
    "urls = [line.rstrip('\\n') for line in open('ET_urls.txt')]\n"
   ]
  },
  {
   "cell_type": "code",
   "execution_count": 18,
   "metadata": {},
   "outputs": [],
   "source": [
    "url_index = 0"
   ]
  },
  {
   "cell_type": "code",
   "execution_count": 19,
   "metadata": {},
   "outputs": [],
   "source": [
    "driver.get('https://economictimes.indiatimes.com/markets/stocks/news')"
   ]
  },
  {
   "cell_type": "code",
   "execution_count": 20,
   "metadata": {},
   "outputs": [
    {
     "name": "stdout",
     "output_type": "stream",
     "text": [
      "Title:  These largecaps have ‘strong buy’ & ‘buy’ recos and upside potential of more than 20%\n",
      "Link:  https://economictimes.indiatimes.com/markets/stocks/news/these-largecaps-have-strong-buy-buy-recos-and-upside-potential-of-more-than-20/articleshow/107074601.cms\n",
      "Title:  Tech Mahindra, Lupin among 5 stocks with long buildup\n",
      "Link:  https://economictimes.indiatimes.com/markets/stocks/news/tech-mahindra-lupin-among-5-stocks-with-long-buildup/slideshow/107074880.cms\n",
      "Title:  F&O Stock Strategy: How to trade MGL, Godrej Consumer, Apollo Hospital\n",
      "Link:  https://economictimes.indiatimes.com/markets/stocks/news/fo-stock-strategy-how-to-trade-mgl-godrej-consumer-apollo-hospital/articleshow/107070519.cms\n",
      "Title:  Maxposure shares debut with 339% premium on NSE SME platform\n",
      "Link:  https://economictimes.indiatimes.com/markets/stocks/news/maxposure-shares-debut-with-339-premium-on-nse-sme-platform/articleshow/107060818.cms\n",
      "Title:  Groww app hit by technical glitch, demat account holders demand compensation\n",
      "Link:  https://economictimes.indiatimes.com/markets/stocks/news/groww-app-hit-by-technical-glitch-demat-account-holders-demand-compensation/articleshow/107074532.cms\n",
      "Title:  Persistent Systems shares soar 10%, hit 52-week high on strong Q3 show\n",
      "Link:  https://economictimes.indiatimes.com/markets/stocks/news/persistent-systems-shares-soar-10-hit-52-week-high-on-strong-q3-show/articleshow/107072684.cms\n",
      "Title:  Use guaranteed savings plans to lock into high interest rates\n",
      "Link:  https://economictimes.indiatimes.com/markets/stocks/news/use-guaranteed-savings-plans-to-lock-into-high-interest-rates/articleshow/107073625.cms\n",
      "Title:  Modi effect: IREDA, Tata Power & other renewable energy stocks jump up to 18%. Here's why\n",
      "Link:  https://economictimes.indiatimes.com/markets/stocks/news/modi-effect-ireda-tata-power-other-renewable-energy-stocks-jump-up-to-18-heres-why/articleshow/107074437.cms\n",
      "Title:  India crowned stock market superpower but 2 Wall Street darlings bigger than entire Dalal Street\n",
      "Link:  https://economictimes.indiatimes.com/markets/stocks/news/india-crowned-stock-market-superpower-but-2-wall-street-darlings-bigger-than-entire-dalal-street/articleshow/107073477.cms\n",
      "Title:  Technical Stock Pick: Bank of India rallies nearly 40% in 3 months to hit fresh 52-week high; Should you buy or book profits?\n",
      "Link:  https://economictimes.indiatimes.com/markets/stocks/news/technical-stock-pick-bank-of-india-rallies-nearly-40-in-3-months-to-hit-fresh-52-week-high-should-you-buy-or-book-profits/articleshow/107073312.cms\n",
      "Title:  Hot Stocks: Brokerages view on Zee Entertainment, Paytm, Kotak Bank and ICICI Bank\n",
      "Link:  https://economictimes.indiatimes.com/markets/stocks/news/hot-stocks-brokerages-view-on-zee-entertainment-paytm-kotak-bank-and-icici-bank/articleshow/107069124.cms\n",
      "Title:  Interim Budget 2024: Top 4 stocks from budget themed portfolio scan that could give 16-20% return\n",
      "Link:  https://economictimes.indiatimes.com/markets/stocks/news/interim-budget-2024-top-4-stocks-from-budget-themed-portfolio-scan-that-could-give-16-20-return/articleshow/107074000.cms\n",
      "Title:  MFs and FIIs increase stakes in 5 out of 6 new-age tech stocks, Zomato among them\n",
      "Link:  https://economictimes.indiatimes.com/markets/stocks/news/mfs-and-fiis-increase-stakes-in-5-out-of-6-new-age-tech-stocks-zomato-among-them/articleshow/107070376.cms\n",
      "Title:  Dolly Khanna adds multibaggers JKumar Infraprojects, Ujjivan Financial Services in December quarter\n",
      "Link:  https://economictimes.indiatimes.com/markets/stocks/news/dolly-khanna-adds-multibaggers-jkumar-infraprojects-ujjivan-financial-services-in-december-quarter/articleshow/107071749.cms\n",
      "Title:  Cipla shares jump 7%, hit 52-week high on strong Q3 earnings\n",
      "Link:  https://economictimes.indiatimes.com/markets/stocks/news/cipla-shares-jump-7-hit-52-week-high-on-strong-q3-earnings/articleshow/107070149.cms\n",
      "Title:  IDFC First Bank shares slide 5% post Q3 earnings. Should you buy, sell or hold?\n",
      "Link:  https://economictimes.indiatimes.com/markets/stocks/news/idfc-first-bank-shares-slide-5-post-q3-earnings-should-you-buy-sell-or-hold/articleshow/107072377.cms\n"
     ]
    },
    {
     "ename": "AttributeError",
     "evalue": "'WebDriver' object has no attribute 'find_elements_by_class_name'",
     "output_type": "error",
     "traceback": [
      "\u001b[1;31m---------------------------------------------------------------------------\u001b[0m",
      "\u001b[1;31mAttributeError\u001b[0m                            Traceback (most recent call last)",
      "Cell \u001b[1;32mIn[20], line 55\u001b[0m\n\u001b[0;32m     50\u001b[0m \u001b[38;5;66;03m## One of the key challenges faced during execution. New articles won't load until scrolled down till the end of the page\u001b[39;00m\n\u001b[0;32m     51\u001b[0m \u001b[38;5;66;03m# Problem solved using 'JavaScript injection' in the selenium driver\u001b[39;00m\n\u001b[0;32m     52\u001b[0m driver\u001b[38;5;241m.\u001b[39mexecute_script(\u001b[38;5;124m\"\u001b[39m\u001b[38;5;124mwindow.scrollTo(0, document.body.scrollHeight);\u001b[39m\u001b[38;5;124m\"\u001b[39m)\n\u001b[1;32m---> 55\u001b[0m next_page \u001b[38;5;241m=\u001b[39m \u001b[43mdriver\u001b[49m\u001b[38;5;241;43m.\u001b[39;49m\u001b[43mfind_elements_by_class_name\u001b[49m(\u001b[38;5;124m'\u001b[39m\u001b[38;5;124mautoload_continue\u001b[39m\u001b[38;5;124m'\u001b[39m)\n\u001b[0;32m     56\u001b[0m driver\u001b[38;5;241m.\u001b[39mexecute_script(\u001b[38;5;124m\"\u001b[39m\u001b[38;5;124m$(arguments[0]).click();\u001b[39m\u001b[38;5;124m\"\u001b[39m, next_page)\n\u001b[0;32m     57\u001b[0m time\u001b[38;5;241m.\u001b[39msleep(\u001b[38;5;241m0.5\u001b[39m)\n",
      "\u001b[1;31mAttributeError\u001b[0m: 'WebDriver' object has no attribute 'find_elements_by_class_name'"
     ]
    }
   ],
   "source": [
    "# Start the for loop over the list of section urls to scrape all the historical news from those\n",
    "# sections one-by-one\n",
    "for url in urls:\n",
    "    driver.get(url)\n",
    "    news_titles = {}\n",
    "    news_titles_count = 0\n",
    "    tag_dup = []        # Create an empty list to store a copy of the news already extracted and avoid duplication\n",
    "\n",
    "    page_break = -10    # Check in place in case the web page reaches its end\n",
    "\n",
    "    # Start while loop to extract text features from the historical articles\n",
    "    while len(tag_dup)<=1850 and len(tag_dup)>=page_break:\n",
    "        source = driver.page_source\n",
    "        soup = BeautifulSoup(source,'html.parser')\n",
    "        tags = soup.find_all('div',{'class':'eachStory'})\n",
    "\n",
    "\n",
    "        # Remove duplicate content from the scraped web-page\n",
    "        try:\n",
    "            new_tags = set(tags).difference(tag_dup)\n",
    "        except:\n",
    "            new_tags = tags\n",
    "\n",
    "        tag_dup = []\n",
    "\n",
    "        for tag_du in tags:\n",
    "            tag_dup.append(tag_du)\n",
    "\n",
    "        page_break+=1\n",
    "\n",
    "        ## One of the challenges faced during execution of the code was that the website page reloads automatically\n",
    "        ## and as a result the whole progress of moving to the olders pages is lost. To counter this issue,\n",
    "        ## first only the title and link of the news are extracted as far behind in the past as possible and the\n",
    "        ## date of publication and full text are extracted later on using the news links extracted in this section\n",
    "\n",
    "\n",
    "    # 1st Section - Extracting only Titles and Links\n",
    "        # Run for loop on the new tags that were separated to extract text features of the news articles\n",
    "        # Features include: Title, Link\n",
    "        for tag in new_tags:\n",
    "            title = tag.find('h3').text\n",
    "            address = tag.find('a').get('href')\n",
    "            link = 'https://economictimes.indiatimes.com'+address\n",
    "            print('Title: ',title)\n",
    "            print('Link: ',link)\n",
    "            news_titles_count+=1\n",
    "            news_titles[news_titles_count] = [title,link]\n",
    "\n",
    "        \n",
    "        ## One of the key challenges faced during execution. New articles won't load until scrolled down till the end of the page\n",
    "        # Problem solved using 'JavaScript injection' in the selenium driver\n",
    "        driver.execute_script(\"window.scrollTo(0, document.body.scrollHeight);\")\n",
    "\n",
    "\n",
    "        next_page = driver.find_elements_by_class_name('autoload_continue')\n",
    "        driver.execute_script(\"$(arguments[0]).click();\", next_page)\n",
    "        time.sleep(0.5)\n",
    "        print('\\n\\n-----\\n')\n",
    "        print(len(tag_dup))\n",
    "        #time.sleep(1)\n",
    "        print('\\n\\n-----\\n')\n",
    "\n",
    "    # Store extracted news titles and links from dictionary to the pandas dataframe\n",
    "    title_df = pd.DataFrame.from_dict(news_titles,orient='index',columns=['Title','Link'])\n",
    "    print(len(title_df))\n",
    "    title_df.drop_duplicates(subset =\"Link\", keep = False, inplace = True)\n",
    "    print(len(title_df))\n",
    "    print('\\n')\n",
    "\n",
    "\n",
    "    # Create an empty dictionary for storing date and full news text to be scraped using news links extracted earlier\n",
    "    news_articles = {}\n",
    "    news_count = 0"
   ]
  },
  {
   "cell_type": "code",
   "execution_count": null,
   "metadata": {},
   "outputs": [],
   "source": []
  }
 ],
 "metadata": {
  "kernelspec": {
   "display_name": "Python 3",
   "language": "python",
   "name": "python3"
  },
  "language_info": {
   "codemirror_mode": {
    "name": "ipython",
    "version": 3
   },
   "file_extension": ".py",
   "mimetype": "text/x-python",
   "name": "python",
   "nbconvert_exporter": "python",
   "pygments_lexer": "ipython3",
   "version": "3.10.9"
  }
 },
 "nbformat": 4,
 "nbformat_minor": 2
}
